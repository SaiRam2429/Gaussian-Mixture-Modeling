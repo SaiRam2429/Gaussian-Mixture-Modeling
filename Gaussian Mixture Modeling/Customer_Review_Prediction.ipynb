{
 "cells": [
  {
   "cell_type": "markdown",
   "metadata": {},
   "source": [
    "<h2 align='center'> Collaborative filtering Using Gaussian Mixture Modeling <h2>"
   ]
  },
  {
   "cell_type": "code",
   "execution_count": 17,
   "metadata": {},
   "outputs": [],
   "source": [
    "from typing import NamedTuple, Tuple\n",
    "import numpy as np\n",
    "from matplotlib import pyplot as plt\n",
    "from matplotlib.patches import Circle, Arc\n",
    "from scipy.special import logsumexp"
   ]
  },
  {
   "cell_type": "code",
   "execution_count": 18,
   "metadata": {},
   "outputs": [],
   "source": [
    "class GaussianMixture(NamedTuple):\n",
    "    mu: np.ndarray  # (K, d) array - each row corresponds to a gaussian component mean\n",
    "    var: np.ndarray  # (K, ) array - each row corresponds to the variance of a component\n",
    "    p: np.ndarray  # (K, ) array = each row corresponds to the weight of a component"
   ]
  },
  {
   "cell_type": "markdown",
   "metadata": {},
   "source": [
    "* The formula of gaussian is \n",
    "$ p(j\\mid u) =\\frac{p(u|j)\\cdot p(j)}{p(u)} =\\frac{p(u|j)\\cdot p(j)}{\\sum _{j=1}^{K}p(u|j)\\cdot p(j)} =\\frac{ \\pi _{j}N(x_{C_{u}}^{(u)};\\mu _{C_{u}}^{(j)},\\sigma _{j}^{2}I_{C_{u}\\times C_{u}}) }{ \\sum _{j=1}^{K}\\pi _{j}N(x_{C_{u}}^{(u)};\\mu _{C_{u}}^{(j)},\\sigma _{j}^{2}I_{C_{u}\\times C_{u}}) } $"
   ]
  },
  {
   "cell_type": "code",
   "execution_count": 19,
   "metadata": {},
   "outputs": [],
   "source": [
    "def init(X: np.ndarray, K: int,\n",
    "         seed: int = 0) -> Tuple[GaussianMixture, np.ndarray]:\n",
    "    \"\"\"\n",
    "    Returns:\n",
    "        mixture: the initialized gaussian mixture\n",
    "        post: (n, K) array holding the soft counts\n",
    "            for all components for all examples\n",
    "\n",
    "    \"\"\"\n",
    "    np.random.seed(seed)\n",
    "    n, _ = X.shape\n",
    "    p = np.ones(K) / K\n",
    "\n",
    "    # select K random points as initial means\n",
    "    mu = X[np.random.choice(n, K, replace=False)]\n",
    "    var = np.zeros(K)\n",
    "    # Compute variance\n",
    "    for j in range(K):\n",
    "        var[j] = ((X - mu[j])**2).mean()\n",
    "\n",
    "    mixture = GaussianMixture(mu, var, p)\n",
    "    post = np.ones((n, K)) / K\n",
    "\n",
    "    return mixture, post\n"
   ]
  },
  {
   "cell_type": "code",
   "execution_count": 20,
   "metadata": {},
   "outputs": [],
   "source": [
    "def plot(X: np.ndarray, mixture: GaussianMixture, post: np.ndarray,\n",
    "         title: str):\n",
    "    \"\"\"Plots the mixture model for 2D data\"\"\"\n",
    "    _, K = post.shape\n",
    "\n",
    "    percent = post / post.sum(axis=1).reshape(-1, 1)\n",
    "    fig, ax = plt.subplots()\n",
    "    ax.title.set_text(title)\n",
    "    ax.set_xlim((-20, 20))\n",
    "    ax.set_ylim((-20, 20))\n",
    "    r = 0.25\n",
    "    color = [\"r\", \"b\", \"k\", \"y\", \"m\", \"c\"]\n",
    "    for i, point in enumerate(X):\n",
    "        theta = 0\n",
    "        for j in range(K):\n",
    "            offset = percent[i, j] * 360\n",
    "            arc = Arc(point,\n",
    "                      r,\n",
    "                      r,\n",
    "                      0,\n",
    "                      theta,\n",
    "                      theta + offset,\n",
    "                      edgecolor=color[j])\n",
    "            ax.add_patch(arc)\n",
    "            theta += offset\n",
    "    for j in range(K):\n",
    "        mu = mixture.mu[j]\n",
    "        sigma = np.sqrt(mixture.var[j])\n",
    "        circle = Circle(mu, sigma, color=color[j], fill=False)\n",
    "        ax.add_patch(circle)\n",
    "        legend = \"mu = ({:0.2f}, {:0.2f})\\n stdv = {:0.2f}\".format(\n",
    "            mu[0], mu[1], sigma)\n",
    "        ax.text(mu[0], mu[1], legend)\n",
    "    plt.axis('equal')\n"
   ]
  },
  {
   "cell_type": "code",
   "execution_count": 21,
   "metadata": {},
   "outputs": [],
   "source": [
    "def rmse(X, Y):\n",
    "    return np.sqrt(np.mean((X - Y)**2))"
   ]
  },
  {
   "cell_type": "code",
   "execution_count": 22,
   "metadata": {},
   "outputs": [],
   "source": [
    "def estep(X: np.ndarray, mixture: GaussianMixture) -> Tuple[np.ndarray, float]:\n",
    "    \"\"\"\n",
    "    Returns:\n",
    "        np.ndarray: (n, K) array holding the soft counts\n",
    "            for all components for all examples\n",
    "        float: log-likelihood of the assignment\n",
    "\n",
    "    \"\"\"\n",
    "    non_null = (X != 0).astype(int)\n",
    "    rated = np.sum(non_null, axis=1)\n",
    "    # mask_mu = non_null[:, None, :] * mixture.mu  # nxkxd\n",
    "    # f = (np.sum(X[:, None, :] - mask_mu[:, None, :], axis=2) ** 2) / (mixture.var[None, :] * 2.0)\n",
    "\n",
    "    norm = np.sum((X[:, None, :] - non_null[:, None, :] * mixture.mu) ** 2, axis=2)\n",
    "    norm2 = -norm / (mixture.var[None, :] * 2)\n",
    "    f = norm2 - (rated[:, None] / 2.0) * (np.log(2 * np.pi) + np.log(mixture.var[None, :]))\n",
    "    f = f + np.log(mixture.p[None, :] + 1e-16)\n",
    "    f_max = np.max(f, axis=1, keepdims=True)\n",
    "    log_post = f - logsumexp(f, axis=1, keepdims=True)\n",
    "    post = np.exp(log_post)\n",
    "    log_likelihood = np.sum(post * (f-log_post))\n",
    "    return post, log_likelihood\n"
   ]
  },
  {
   "cell_type": "code",
   "execution_count": 23,
   "metadata": {},
   "outputs": [],
   "source": [
    "def mstep(X: np.ndarray, post: np.ndarray, mixture: GaussianMixture,\n",
    "          min_variance: float = .25) -> GaussianMixture:\n",
    "    \"\"\"\n",
    "    Returns:\n",
    "        GaussianMixture: the new gaussian mixture\n",
    "    \"\"\"\n",
    "    K = post.shape[1]\n",
    "    X2 = np.copy(X)\n",
    "    X2[X2 != 0] = 1\n",
    "\n",
    "    mu_h = np.zeros((mixture.mu.shape))\n",
    "\n",
    "    for k in range(K):\n",
    "        for i in range(X.shape[1]):\n",
    "            if np.multiply(X2[:, i].T, np.matrix(post[:, k])).T.sum(axis=0) >= 1:\n",
    "                mu_h[k, i] = np.multiply(X[:, i].T, np.matrix(post[:, k])).T.sum(axis=0) / np.multiply(X2[:, i].T,\n",
    "                                                                                                       np.matrix(post[:,\n",
    "                                                                                                                 k])).T.sum(\n",
    "                    axis=0)\n",
    "            else:\n",
    "                mu_h[k, i] = mixture.mu[k, i]\n",
    "    p = np.zeros((mixture.p.shape))\n",
    "    p = post.sum(axis=0) / post.shape[0]\n",
    "\n",
    "    var_h = np.zeros((mixture.var.shape))\n",
    "\n",
    "    for k in range(K):\n",
    "        pv = (post[:, k] * np.power((X-mu_h[k])*X2, 2).sum(axis=1)).sum(axis=0) / ((np.matrix(post[:, k]) * X2).sum(axis=1)).sum(axis=0)\n",
    "        if pv >= min_variance:\n",
    "            var_h[k] = pv\n",
    "        else:\n",
    "            var_h[k] = min_variance\n",
    "    return GaussianMixture(mu_h, var_h, p)"
   ]
  },
  {
   "cell_type": "code",
   "execution_count": 24,
   "metadata": {},
   "outputs": [],
   "source": [
    "def run(X: np.ndarray, mixture: GaussianMixture,\n",
    "        post: np.ndarray) -> Tuple[GaussianMixture, np.ndarray, float]:\n",
    "    \"\"\"\n",
    "    Returns:\n",
    "        GaussianMixture: the new gaussian mixture\n",
    "        np.ndarray: (n, K) array holding the soft counts\n",
    "            for all components for all examples\n",
    "        float: log-likelihood of the current assignment\n",
    "    \"\"\"\n",
    "    cost = None\n",
    "    i = 0\n",
    "    while True:\n",
    "        global prev_cost\n",
    "        if i > 0:\n",
    "            prev_cost = cost\n",
    "\n",
    "        post, cost = estep(X, mixture)\n",
    "\n",
    "        mixture = mstep(X, post, mixture)\n",
    "        if i > 0:\n",
    "            if cost - prev_cost <= 1e-6 * np.abs(cost):\n",
    "                break\n",
    "        i += 1\n",
    "\n",
    "    return mixture, post, cost"
   ]
  },
  {
   "cell_type": "code",
   "execution_count": 25,
   "metadata": {},
   "outputs": [],
   "source": [
    "def fill_matrix(X: np.ndarray, mixture: GaussianMixture) -> np.ndarray:\n",
    "    \n",
    "    \"\"\"\n",
    "    Fills an incomplete matrix according to a mixture model\n",
    "\n",
    "    Returns\n",
    "        np.ndarray: a (n, d) array with completed data\n",
    "    \"\"\"\n",
    "    \n",
    "    output = np.copy(X)\n",
    "    non_null = (X != 0).astype(int)\n",
    "    rated = np.sum(non_null, axis=1)\n",
    "    norm = np.sum((X[:, None, :] - non_null[:, None, :] * mixture.mu) ** 2, axis=2)\n",
    "    norm2 = -norm / (mixture.var[None, :] * 2)\n",
    "    f = norm2 - (rated[:, None] / 2.0) * (np.log(2 * np.pi) + np.log(mixture.var[None, :]))\n",
    "    f = f + np.log(mixture.p[None, :] + 1e-16)\n",
    "    f_max = np.max(f, axis=1, keepdims=True)\n",
    "    log_post = f - logsumexp(f, axis=1, keepdims=True)\n",
    "    post = np.exp(log_post)\n",
    "    a, b = np.where(X == 0)\n",
    "    for i in list(zip(a, b)):\n",
    "        output[i] = (np.sum(post[i[0]] * mixture.mu[:, i[1]]))\n",
    "\n",
    "    return output"
   ]
  },
  {
   "cell_type": "code",
   "execution_count": 31,
   "metadata": {},
   "outputs": [],
   "source": [
    "def evaluate():\n",
    "    gold_X = np.loadtxt('netflix_complete.txt') # Original Review data\n",
    "    X = np.loadtxt('netflix_incomplete.txt')\n",
    "    for i in range(1, 2):\n",
    "        seed = i\n",
    "        K = 12\n",
    "        mixture, _ = init(X, K, seed)\n",
    "        post, cost = estep(X, mixture)\n",
    "        mmixture = mstep(X, post, mixture)\n",
    "        finalmixture, finalpost, finalcost = run(X, mmixture, post)\n",
    "        final_X = fill_matrix(X, finalmixture)\n",
    "        return final_X, (rmse(gold_X, final_X))\n"
   ]
  }
 ],
 "metadata": {
  "kernelspec": {
   "display_name": "Python 3",
   "language": "python",
   "name": "python3"
  },
  "language_info": {
   "codemirror_mode": {
    "name": "ipython",
    "version": 3
   },
   "file_extension": ".py",
   "mimetype": "text/x-python",
   "name": "python",
   "nbconvert_exporter": "python",
   "pygments_lexer": "ipython3",
   "version": "3.7.6"
  }
 },
 "nbformat": 4,
 "nbformat_minor": 4
}
